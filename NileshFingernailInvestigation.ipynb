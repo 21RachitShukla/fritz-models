{
  "nbformat": 4,
  "nbformat_minor": 0,
  "metadata": {
    "colab": {
      "name": "NileshFingernailInvestigation.ipynb",
      "version": "0.3.2",
      "provenance": [],
      "include_colab_link": true
    },
    "kernelspec": {
      "name": "python3",
      "display_name": "Python 3"
    },
    "accelerator": "GPU"
  },
  "cells": [
    {
      "cell_type": "markdown",
      "metadata": {
        "id": "view-in-github",
        "colab_type": "text"
      },
      "source": [
        "<a href=\"https://colab.research.google.com/github/fritzlabs/fritz-models/blob/using-fritz-train/NileshFingernailInvestigation.ipynb\" target=\"_parent\"><img src=\"https://colab.research.google.com/assets/colab-badge.svg\" alt=\"Open In Colab\"/></a>"
      ]
    },
    {
      "metadata": {
        "id": "v813D-mVPvOU",
        "colab_type": "code",
        "colab": {
          "base_uri": "https://localhost:8080/",
          "height": 102
        },
        "outputId": "198f8b53-17a3-4d0c-8f9c-692ac5987d68"
      },
      "cell_type": "code",
      "source": [
        "!git clone https://github.com/fritzlabs/fritz-models\n",
        "%cd fritz-models/\n",
        "!git checkout using-fritz-train\n",
        "%cd image_segmentation"
      ],
      "execution_count": 1,
      "outputs": [
        {
          "output_type": "stream",
          "text": [
            "fatal: destination path 'fritz-models' already exists and is not an empty directory.\n",
            "/content/fritz-models\n",
            "Already on 'using-fritz-train'\n",
            "Your branch is up to date with 'origin/using-fritz-train'.\n",
            "/content/fritz-models/image_segmentation\n"
          ],
          "name": "stdout"
        }
      ]
    },
    {
      "metadata": {
        "id": "sC-qQB_-P0U7",
        "colab_type": "code",
        "colab": {
          "base_uri": "https://localhost:8080/",
          "height": 153
        },
        "outputId": "7db99676-06c8-40b1-b2c2-aa8ba3d45eac"
      },
      "cell_type": "code",
      "source": [
        "!pip install pipenv\n",
        "!pipenv install --system\n",
        "!pip install tensorflow-gpu"
      ],
      "execution_count": 2,
      "outputs": [
        {
          "output_type": "stream",
          "text": [
            "Requirement already satisfied: pipenv in /usr/local/lib/python3.6/dist-packages (2018.11.26)\n",
            "Requirement already satisfied: virtualenv-clone>=0.2.5 in /usr/local/lib/python3.6/dist-packages (from pipenv) (0.5.1)\n",
            "Requirement already satisfied: virtualenv in /usr/local/lib/python3.6/dist-packages (from pipenv) (16.4.1)\n",
            "Requirement already satisfied: certifi in /usr/local/lib/python3.6/dist-packages (from pipenv) (2018.11.29)\n",
            "Requirement already satisfied: pip>=9.0.1 in /usr/local/lib/python3.6/dist-packages (from pipenv) (19.0.2)\n",
            "Requirement already satisfied: setuptools>=36.2.1 in /usr/local/lib/python3.6/dist-packages (from pipenv) (40.8.0)\n",
            "\u001b[39m\u001b[1mInstalling dependencies from Pipfile.lock (f9cebb)…\u001b[39m\u001b[22m\n",
            "  🐍   \u001b[32m\u001b[1m▉\u001b[39m\u001b[22m\u001b[32m\u001b[1m▉\u001b[39m\u001b[22m\u001b[32m\u001b[1m▉\u001b[39m\u001b[22m\u001b[32m\u001b[1m▉\u001b[39m\u001b[22m\u001b[32m\u001b[1m▉\u001b[39m\u001b[22m\u001b[32m\u001b[1m▉\u001b[39m\u001b[22m\u001b[32m\u001b[1m▉\u001b[39m\u001b[22m\u001b[32m\u001b[1m▉\u001b[39m\u001b[22m\u001b[32m\u001b[1m▉\u001b[39m\u001b[22m\u001b[32m\u001b[1m▉\u001b[39m\u001b[22m\u001b[32m\u001b[1m▉\u001b[39m\u001b[22m\u001b[32m\u001b[1m▉\u001b[39m\u001b[22m\u001b[32m\u001b[1m▉\u001b[39m\u001b[22m\u001b[32m\u001b[1m▉\u001b[39m\u001b[22m\u001b[32m\u001b[1m▉\u001b[39m\u001b[22m\u001b[32m\u001b[1m▉\u001b[39m\u001b[22m\u001b[32m\u001b[1m▉\u001b[39m\u001b[22m\u001b[32m\u001b[1m▉\u001b[39m\u001b[22m\u001b[32m\u001b[1m▉\u001b[39m\u001b[22m\u001b[32m\u001b[1m▉\u001b[39m\u001b[22m\u001b[32m\u001b[1m▉\u001b[39m\u001b[22m\u001b[32m\u001b[1m▉\u001b[39m\u001b[22m\u001b[32m\u001b[1m▉\u001b[39m\u001b[22m\u001b[32m\u001b[1m▉\u001b[39m\u001b[22m\u001b[32m\u001b[1m▉\u001b[39m\u001b[22m\u001b[32m\u001b[1m▉\u001b[39m\u001b[22m\u001b[32m\u001b[1m▉\u001b[39m\u001b[22m\u001b[32m\u001b[1m▉\u001b[39m\u001b[22m\u001b[32m\u001b[1m▉\u001b[39m\u001b[22m\u001b[32m\u001b[1m▉\u001b[39m\u001b[22m\u001b[32m\u001b[1m▉\u001b[39m\u001b[22m\u001b[32m\u001b[1m▉\u001b[39m\u001b[22m 26/26 — \u001b[30m\u001b[22m00:00:16\u001b[39m\u001b[22m\n",
            "\u001b[0m"
          ],
          "name": "stdout"
        }
      ]
    },
    {
      "metadata": {
        "id": "xE5tbAwKSmMy",
        "colab_type": "code",
        "colab": {}
      },
      "cell_type": "code",
      "source": [
        "!fritz config"
      ],
      "execution_count": 0,
      "outputs": []
    },
    {
      "metadata": {
        "id": "fcUGsmJaSGwI",
        "colab_type": "code",
        "colab": {
          "base_uri": "https://localhost:8080/",
          "height": 68
        },
        "outputId": "55faab98-e78d-4363-ac60-0c2c18e730ab"
      },
      "cell_type": "code",
      "source": [
        "with open('examples/labels.txt', 'w') as f:\n",
        "    f.write('\\n'.join(['idx,label', 'None', 'Fingernail']))\n",
        "\n",
        "!cat examples/labels.txt"
      ],
      "execution_count": 4,
      "outputs": [
        {
          "output_type": "stream",
          "text": [
            "idx,label\n",
            "None\n",
            "Fingernail"
          ],
          "name": "stdout"
        }
      ]
    },
    {
      "metadata": {
        "id": "Lwwaqo50QKC-",
        "colab_type": "code",
        "colab": {
          "base_uri": "https://localhost:8080/",
          "height": 1713
        },
        "outputId": "95007243-f1a5-4188-b8cf-522bb3255c5c"
      },
      "cell_type": "code",
      "source": [
        "!git pull\n",
        "\n",
        "!python -m image_segmentation.train \\\n",
        "    --data examples/fingernail_data_23feb_not_clipped.tfrecord \\\n",
        "    -l examples/labels.txt \\\n",
        "    --use-dali \\\n",
        "    -s 384 \\\n",
        "    -a 1 \\\n",
        "    --batch-size 15 \\\n",
        "    --steps-per-epoch 500 \\\n",
        "    -n 50000 \\\n",
        "    --parallel-calls 4 \\\n",
        "    --lr 0.0005 \\\n",
        "    --model-name fingernail_test \\\n",
        "    --output fingernail_test_384x384.h5 \\\n",
        "    --fine-tune-checkpoint fingernail_test_384x384.h5 \\\n",
        "    --upload-to-fritz"
      ],
      "execution_count": 0,
      "outputs": [
        {
          "output_type": "stream",
          "text": [
            "Already up to date.\n",
            "Using TensorFlow backend.\n",
            "2019-02-27 09:28:42,330 - __main__ - INFO - ICNet Model training Parameters\n",
            "2019-02-27 09:28:42,330 - __main__ - INFO - -------------------------------\n",
            "2019-02-27 09:28:42,330 - __main__ - INFO -     data=['examples/fingernail_data_23feb_not_clipped.tfrecord']\n",
            "2019-02-27 09:28:42,331 - __main__ - INFO -     tfindex_files=None\n",
            "2019-02-27 09:28:42,331 - __main__ - INFO -     label_filename=examples/labels.txt\n",
            "2019-02-27 09:28:42,331 - __main__ - INFO -     image_size=384\n",
            "2019-02-27 09:28:42,331 - __main__ - INFO -     alpha=1.0\n",
            "2019-02-27 09:28:42,331 - __main__ - INFO -     augment_images=True\n",
            "2019-02-27 09:28:42,331 - __main__ - INFO -     add_noise=0.0\n",
            "2019-02-27 09:28:42,331 - __main__ - INFO -     use_dali=True\n",
            "2019-02-27 09:28:42,331 - __main__ - INFO -     list_labels=False\n",
            "2019-02-27 09:28:42,331 - __main__ - INFO -     batch_size=15\n",
            "2019-02-27 09:28:42,331 - __main__ - INFO -     lr=0.0005\n",
            "2019-02-27 09:28:42,331 - __main__ - INFO -     lr_drop=None\n",
            "2019-02-27 09:28:42,331 - __main__ - INFO -     lr_initial_delay=0\n",
            "2019-02-27 09:28:42,331 - __main__ - INFO -     lr_update_frequency=10\n",
            "2019-02-27 09:28:42,331 - __main__ - INFO -     min_lr=0.0\n",
            "2019-02-27 09:28:42,332 - __main__ - INFO -     num_steps=50000\n",
            "2019-02-27 09:28:42,332 - __main__ - INFO -     steps_per_epoch=500\n",
            "2019-02-27 09:28:42,332 - __main__ - INFO -     dataset_cycles=None\n",
            "2019-02-27 09:28:42,332 - __main__ - INFO -     output=fingernail_test_384x384.h5\n",
            "2019-02-27 09:28:42,332 - __main__ - INFO -     gpu_cores=1\n",
            "2019-02-27 09:28:42,332 - __main__ - INFO -     fine_tune_checkpoint=fingernail_test_384x384.h5\n",
            "2019-02-27 09:28:42,332 - __main__ - INFO -     gcs_bucket=None\n",
            "2019-02-27 09:28:42,332 - __main__ - INFO -     parallel_calls=4\n",
            "2019-02-27 09:28:42,332 - __main__ - INFO -     model_name=fingernail_test\n",
            "2019-02-27 09:28:42,332 - __main__ - INFO -     start_time=1551259722\n",
            "2019-02-27 09:28:42,332 - __main__ - INFO -     upload_to_fritz=True\n",
            "2019-02-27 09:28:42,333 - __main__ - INFO - Labels:\n",
            "2019-02-27 09:28:42,333 - __main__ - INFO - \tNone\n",
            "2019-02-27 09:28:42,333 - __main__ - INFO - \tFingernail\n",
            "2019-02-27 09:28:42,374 - __main__ - ERROR - Failed to parse TFRecord file after 100\n",
            "Traceback (most recent call last):\n",
            "  File \"/content/fritz-models/image_segmentation/image_segmentation/train.py\", line 198, in build_tfindex_file\n",
            "    proto_len = struct.unpack('q', byte_len)[0]\n",
            "struct.error: unpack requires a buffer of 8 bytes\n",
            "2019-02-27 09:28:42,374 - __main__ - INFO - Created tfindex file: examples/fingernail_data_23feb_not_clipped.tfrecord -> examples/fingernail_data_23feb_not_clipped.tfindex\n",
            "2019-02-27 09:28:42,375 - image_segmentation.dali_config - INFO - Dali Image Augmentation Parameters\n",
            "2019-02-27 09:28:42,375 - image_segmentation.dali_config - INFO - ==================================\n",
            "2019-02-27 09:28:42,375 - image_segmentation.dali_config - INFO -   hue_min: -30\n",
            "2019-02-27 09:28:42,375 - image_segmentation.dali_config - INFO -   hue_max: 30\n",
            "2019-02-27 09:28:42,375 - image_segmentation.dali_config - INFO -   zoom_scale: 1.3\n",
            "2019-02-27 09:28:42,375 - image_segmentation.dali_config - INFO -   rotate_angle_min: -45\n",
            "2019-02-27 09:28:42,375 - image_segmentation.dali_config - INFO -   rotate_angle_max: 45\n",
            "2019-02-27 09:28:42,375 - image_segmentation.dali_config - INFO -   crop_x_max: 0.2\n",
            "2019-02-27 09:28:42,375 - image_segmentation.dali_config - INFO -   crop_y_max: 0.2\n",
            "2019-02-27 09:28:42,375 - image_segmentation.dali_config - INFO -   contrast_min: 0.45\n",
            "2019-02-27 09:28:42,375 - image_segmentation.dali_config - INFO -   contrast_max: 1.5\n",
            "2019-02-27 09:28:42,376 - image_segmentation.dali_config - INFO -   saturation_min: 0.4\n",
            "2019-02-27 09:28:42,376 - image_segmentation.dali_config - INFO -   saturation_max: 2.0\n",
            "2019-02-27 09:28:42,376 - image_segmentation.dali_config - INFO -   brightness_min: 0.35\n",
            "2019-02-27 09:28:42,376 - image_segmentation.dali_config - INFO -   brightness_max: 1.5\n",
            "384\n",
            "0.2 0.2\n",
            "2019-02-27 09:28:42.503871: I tensorflow/core/platform/cpu_feature_guard.cc:141] Your CPU supports instructions that this TensorFlow binary was not compiled to use: AVX2 FMA\n",
            "2019-02-27 09:28:42.508385: I tensorflow/stream_executor/cuda/cuda_gpu_executor.cc:998] successful NUMA node read from SysFS had negative value (-1), but there must be at least one NUMA node, so returning NUMA node zero\n",
            "2019-02-27 09:28:42.508868: I tensorflow/compiler/xla/service/service.cc:150] XLA service 0x2b4ac00 executing computations on platform CUDA. Devices:\n",
            "2019-02-27 09:28:42.508899: I tensorflow/compiler/xla/service/service.cc:158]   StreamExecutor device (0): Tesla K80, Compute Capability 3.7\n",
            "2019-02-27 09:28:42.510494: I tensorflow/core/platform/profile_utils/cpu_utils.cc:94] CPU Frequency: 2300000000 Hz\n",
            "2019-02-27 09:28:42.510704: I tensorflow/compiler/xla/service/service.cc:150] XLA service 0x2b4a680 executing computations on platform Host. Devices:\n",
            "2019-02-27 09:28:42.510751: I tensorflow/compiler/xla/service/service.cc:158]   StreamExecutor device (0): <undefined>, <undefined>\n",
            "2019-02-27 09:28:42.511071: I tensorflow/core/common_runtime/gpu/gpu_device.cc:1433] Found device 0 with properties: \n",
            "name: Tesla K80 major: 3 minor: 7 memoryClockRate(GHz): 0.8235\n",
            "pciBusID: 0000:00:04.0\n",
            "totalMemory: 11.17GiB freeMemory: 11.10GiB\n",
            "2019-02-27 09:28:42.511102: I tensorflow/core/common_runtime/gpu/gpu_device.cc:1512] Adding visible gpu devices: 0\n",
            "2019-02-27 09:28:42.511832: I tensorflow/core/common_runtime/gpu/gpu_device.cc:984] Device interconnect StreamExecutor with strength 1 edge matrix:\n",
            "2019-02-27 09:28:42.511884: I tensorflow/core/common_runtime/gpu/gpu_device.cc:990]      0 \n",
            "2019-02-27 09:28:42.511907: I tensorflow/core/common_runtime/gpu/gpu_device.cc:1003] 0:   N \n",
            "2019-02-27 09:28:42.512108: W tensorflow/core/common_runtime/gpu/gpu_bfc_allocator.cc:42] Overriding allow_growth setting because the TF_FORCE_GPU_ALLOW_GROWTH environment variable is set. Original config value was 0.\n",
            "2019-02-27 09:28:42.512152: I tensorflow/core/common_runtime/gpu/gpu_device.cc:1115] Created TensorFlow device (/job:localhost/replica:0/task:0/device:GPU:0 with 9152 MB memory) -> physical GPU (device: 0, name: Tesla K80, pci bus id: 0000:00:04.0, compute capability: 3.7)\n",
            "2019-02-27 09:28:42,513 - icnet - INFO - Building ICNet model.\n",
            "WARNING:tensorflow:From /usr/local/lib/python3.6/dist-packages/tensorflow/python/framework/op_def_library.py:263: colocate_with (from tensorflow.python.framework.ops) is deprecated and will be removed in a future version.\n",
            "Instructions for updating:\n",
            "Colocations handled automatically by placer.\n",
            "2019-02-27 09:28:42,520 - tensorflow - WARNING - From /usr/local/lib/python3.6/dist-packages/tensorflow/python/framework/op_def_library.py:263: colocate_with (from tensorflow.python.framework.ops) is deprecated and will be removed in a future version.\n",
            "Instructions for updating:\n",
            "Colocations handled automatically by placer.\n",
            "2019-02-27 09:28:50,671 - icnet - INFO - Loading weights from fingernail_test_384x384.h5.\n",
            "2019-02-27 09:28:53,926 - icnet - INFO - Done building model.\n",
            "2019-02-27 09:28:54,018 - __main__ - INFO - Output file name: fingernail_test_384x384.h5\n",
            "WARNING:tensorflow:From /usr/local/lib/python3.6/dist-packages/tensorflow/python/ops/math_ops.py:3066: to_int32 (from tensorflow.python.ops.math_ops) is deprecated and will be removed in a future version.\n",
            "Instructions for updating:\n",
            "Use tf.cast instead.\n",
            "2019-02-27 09:28:54,091 - tensorflow - WARNING - From /usr/local/lib/python3.6/dist-packages/tensorflow/python/ops/math_ops.py:3066: to_int32 (from tensorflow.python.ops.math_ops) is deprecated and will be removed in a future version.\n",
            "Instructions for updating:\n",
            "Use tf.cast instead.\n",
            "WARNING:tensorflow:From /usr/local/lib/python3.6/dist-packages/tensorflow/python/ops/math_grad.py:102: div (from tensorflow.python.ops.math_ops) is deprecated and will be removed in a future version.\n",
            "Instructions for updating:\n",
            "Deprecated in favor of operator or tf.math.divide.\n",
            "2019-02-27 09:28:54,430 - tensorflow - WARNING - From /usr/local/lib/python3.6/dist-packages/tensorflow/python/ops/math_grad.py:102: div (from tensorflow.python.ops.math_ops) is deprecated and will be removed in a future version.\n",
            "Instructions for updating:\n",
            "Deprecated in favor of operator or tf.math.divide.\n",
            "Epoch 1/101\n",
            "500/500 [==============================] - 260s 521ms/step - loss: 0.2265 - conv6_cls_loss: 0.1389 - sub24_out_loss: 0.1498 - sub4_out_loss: 0.1730 - conv6_cls_categorical_accuracy: 0.9463 - conv6_cls_categorical_accuracy_1: 0.9463 - sub24_out_categorical_accuracy: 0.9433 - sub24_out_categorical_accuracy_1: 0.9433 - sub4_out_categorical_accuracy: 0.9358 - sub4_out_categorical_accuracy_1: 0.9358\n"
          ],
          "name": "stdout"
        }
      ]
    },
    {
      "metadata": {
        "id": "TiPKTBhSUgKj",
        "colab_type": "code",
        "colab": {}
      },
      "cell_type": "code",
      "source": [
        "from image_segmentation.image_segmentation_records import ImageSegmentationTFRecord\n",
        "\n",
        "fingernail_records = ImageSegmentationTFRecord('examples/fingernail_data_23feb.tfrecord')\n",
        "fingernail_records_new = ImageSegmentationTFRecord('examples/fingernail_data_23feb_not_clipped.tfrecord')\n",
        "fingernail_records_new.filename = fingernail_records_new.filenames[0]\n",
        "fingernail_records_new.write(fingernail_records)"
      ],
      "execution_count": 0,
      "outputs": []
    },
    {
      "metadata": {
        "id": "Du0_hA0pU07J",
        "colab_type": "code",
        "colab": {}
      },
      "cell_type": "code",
      "source": [
        "from image_segmentation.evaluate import EvaluateImageSegmentationModel\n",
        "results = EvaluateImageSegmentationModel('fingernail_test_384x384.h5', 'examples/fingernail_data_23feb.tfrecord')"
      ],
      "execution_count": 0,
      "outputs": []
    },
    {
      "metadata": {
        "id": "4hFlwMaIXuGj",
        "colab_type": "code",
        "colab": {}
      },
      "cell_type": "code",
      "source": [
        "\n",
        "from image_segmentation.utils import plot_pixel_probabilities\n",
        "from sklearn.utils.class_weight import compute_class_weight\n",
        "import numpy\n",
        "\n",
        "all_classes = [0, 0]\n",
        "\n",
        "for record in results.tfrecords.read(decode=True):\n",
        "    _, counts = numpy.unique(record['mask'], return_counts=True)\n",
        "    all_classes[0] += counts[0]\n",
        "    all_classes[1] += counts[1]\n",
        "\n",
        "    prediction = results.run_prediction(record)\n",
        "    results.generate_prediction_image(record, prediction)\n",
        "    pyplot.show()\n",
        "    plot_pixel_probabilities(prediction[0], ['none', 'fingernail'])\n",
        "    pyplot.show()\n",
        "\n",
        "print(all_classes)"
      ],
      "execution_count": 0,
      "outputs": []
    }
  ]
}